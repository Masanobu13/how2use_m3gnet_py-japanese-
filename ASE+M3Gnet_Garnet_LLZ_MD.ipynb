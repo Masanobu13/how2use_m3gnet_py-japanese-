{
 "cells": [
  {
   "cell_type": "markdown",
   "id": "f8fa773f",
   "metadata": {},
   "source": [
    "# M3GNetとASEを用いた分子シミュレーション\n",
    "## LLZにおけるLiイオン拡散のMDシミュレーション\n",
    "<BR>\n",
    "\n",
    "参考文献（M3GNet）<BR>\n",
    "- GITHUB https://github.com/materialsvirtuallab/m3gnet\n",
    "- Chen, C., Ong, S.P. A universal graph deep learning interatomic potential for the periodic table. Nat Comput Sci 2, 718–728 (2022). https://doi.org/10.1038/s43588-022-00349-3. (論文引用先)\n",
    "\n",
    "（注）本コードを使用して生じた損害などに対して、制作者はいかなる責任も負いません。<BR>\n",
    "  \n",
    "作成：中山将伸 (2023.11.1)  "
   ]
  },
  {
   "cell_type": "code",
   "execution_count": null,
   "id": "35cf8cd1",
   "metadata": {},
   "outputs": [],
   "source": [
    "# !pip install ase==3.22.1\n",
    "# !pip install numpy==1.23.5\n",
    "# !pip install m3gnet==0.2.4\n",
    "# !pip install matplotlib==3.7.5\n",
    "# !pip install nglview==3.0.3\n",
    "# !pip install scipy==1.10.1\n",
    "# !pip install tensorflow==2.9.1\n",
    "# !pip install keras==2.4.3\n",
    "# !pip list"
   ]
  },
  {
   "cell_type": "markdown",
   "id": "f3f56abf",
   "metadata": {},
   "source": [
    "## 【必須】ASEモジュール他のインポート\n"
   ]
  },
  {
   "cell_type": "code",
   "execution_count": null,
   "id": "54a0730b",
   "metadata": {},
   "outputs": [],
   "source": [
    "import numpy as np\n",
    "import math, random\n",
    "\n",
    "import os,sys,csv,glob,shutil,re,time\n",
    "from time import perf_counter\n",
    "from joblib import Parallel, delayed\n",
    "args = sys.argv\n",
    "\n",
    "# sklearn\n",
    "from sklearn.metrics import mean_absolute_error\n",
    "import matplotlib.pyplot as plt\n",
    "\n",
    "import ase #\n",
    "from ase.constraints import FixAtoms, FixedPlane, FixBondLength, UnitCellFilter\n",
    "from ase.optimize import LBFGS\n",
    "from ase.md.velocitydistribution import MaxwellBoltzmannDistribution, Stationary\n",
    "from ase.md.verlet import VelocityVerlet\n",
    "from ase.md.langevin import Langevin\n",
    "from ase.md import MDLogger\n",
    "from ase import Atoms\n",
    "from ase.io import read, write\n",
    "from ase.io import Trajectory\n",
    "from ase import units\n",
    "from ase.build import bulk, make_supercell\n",
    "from ase.visualize import view\n",
    "\n",
    "from m3gnet.models import M3GNet, M3GNetCalculator, Potential\n",
    "\n"
   ]
  },
  {
   "cell_type": "markdown",
   "id": "5d3e6482",
   "metadata": {},
   "source": [
    "## 【必須】Atoms object 入力"
   ]
  },
  {
   "cell_type": "code",
   "execution_count": null,
   "id": "9719da5b",
   "metadata": {},
   "outputs": [],
   "source": [
    "#POSCAR ファイルの読み込み\n",
    "\n",
    "inpf=\"./Li7La3Zr2O12.cif\"\n",
    "atomsprim=read(inpf)\n",
    "atoms=atomsprim\n",
    "print (\"number of atoms:\",len(atoms.positions))\n",
    "print (\"composition:\", atoms.symbols)\n",
    "print (\"cell parameters:\", atoms.get_cell_lengths_and_angles())\n",
    "view(atomsprim, viewer=\"ngl\")"
   ]
  },
  {
   "cell_type": "code",
   "execution_count": null,
   "id": "fe6aa025",
   "metadata": {},
   "outputs": [],
   "source": [
    "atoms.positions"
   ]
  },
  {
   "cell_type": "markdown",
   "id": "368d080c",
   "metadata": {},
   "source": [
    "## （選択）超構造の作成\n",
    "計算時間が長くなるので、スキップしていい。"
   ]
  },
  {
   "cell_type": "code",
   "execution_count": null,
   "id": "17d5012b",
   "metadata": {},
   "outputs": [],
   "source": [
    "# #=============入力====================================================\n",
    "# atoms = make_supercell(atomsprim, [[2, 0, 0],[0, 2, 0],[0,0,2]])\n",
    "# #=============入力====================================================\n",
    "# print (\"number of atoms:\",len(atoms.positions))\n",
    "# print (\"composition:\", atoms.get_chemical_formula(mode=\"hill\"))\n",
    "# print (\"cell parameters:\", atoms.get_cell_lengths_and_angles())\n",
    "# view(atoms, viewer=\"ngl\")"
   ]
  },
  {
   "cell_type": "markdown",
   "id": "455c1ea8",
   "metadata": {},
   "source": [
    "## 【必須】Atoms objectにM3GNetのポテンシャルを導入"
   ]
  },
  {
   "cell_type": "code",
   "execution_count": null,
   "id": "762ec51a",
   "metadata": {},
   "outputs": [],
   "source": [
    "potential = Potential(M3GNet.load()) #M3GNetのデフォルトポテンシャルを導入　（自分で作ったポテンシャルは要別途指定）\n",
    "calculator = M3GNetCalculator(potential=potential, stress_weight=0.01)\n",
    "\n",
    "atoms.set_constraint()\n",
    "atoms.set_calculator(calculator)"
   ]
  },
  {
   "cell_type": "markdown",
   "id": "82206ee2",
   "metadata": {},
   "source": [
    "## （選択）M3GNet 構造緩和なしの計算"
   ]
  },
  {
   "cell_type": "code",
   "execution_count": null,
   "id": "04337cdf",
   "metadata": {},
   "outputs": [],
   "source": [
    "#static 計算\n",
    "print (\"number of ions:\",len(atoms))\n",
    "\n",
    "s_time = perf_counter()\n",
    "energy=atoms.get_potential_energy()\n",
    "force=atoms.get_forces()\n",
    "e_time = perf_counter()\n",
    "\n",
    "elapsedt=e_time-s_time\n",
    "print (\"computation time\",elapsedt, \"sec\")\n",
    "\n",
    "print (\"energy:\",energy)\n",
    "maxf = np.sqrt(((force**2).sum(axis=1).max()))\n",
    "print (\"max force\",maxf)\n",
    "\n"
   ]
  },
  {
   "cell_type": "markdown",
   "id": "67f62bd2",
   "metadata": {},
   "source": [
    "## (選択)M3GNet 構造緩和計算\n",
    "\n",
    "各種アルゴリズムがある(FIRE, LBFGSなど　下記の例はLBFGSを使用)<BR>\n",
    "得られたエネルギー値から電位などを計算することもできる。<BR>\n",
    "NVT-MDを行う前に一度構造緩和計算をすることを推奨（格子定数を適切な値にするため）<BR>"
   ]
  },
  {
   "cell_type": "code",
   "execution_count": null,
   "id": "51bdf8fb",
   "metadata": {},
   "outputs": [],
   "source": [
    "#relax 計算\n",
    "from ase.optimize import LBFGS, BFGS, FIRE\n",
    "from ase.constraints import FixAtoms, FixedPlane, FixBondLength, UnitCellFilter, ExpCellFilter\n",
    "\n",
    "ucf=ExpCellFilter(atoms)\n",
    "opt = LBFGS(ucf, trajectory=\"relax.traj\",logfile=\"log.relax\")\n",
    "opt.run(steps=200)\n",
    "\n",
    "#この時点でatomsのデータが書き換わっている\n",
    "energy=atoms.get_potential_energy()\n",
    "force=atoms.get_forces()\n",
    "\n",
    "print (\"energy:\",energy)\n",
    "print (\"cell parameters:\", atoms.get_cell_lengths_and_angles())\n",
    "maxf = np.sqrt(((force**2).sum(axis=1).max()))\n",
    "print (\"max force\",maxf)\n",
    "\n",
    "#ase.io.write(\"CONTCAR\", atoms, format=\"vasp\")\n",
    "ase.io.write(\"relax.cif\", atoms, format=\"cif\")\n",
    "\n",
    "view(atoms, viewer=\"ngl\")\n"
   ]
  },
  {
   "cell_type": "markdown",
   "id": "acfe29f6",
   "metadata": {},
   "source": [
    "## (選択)M3GNet MD計算\n",
    "\n",
    "\n"
   ]
  },
  {
   "cell_type": "markdown",
   "id": "ca70e433",
   "metadata": {},
   "source": [
    "### パラメーター入力と計算の実行\n",
    "\n",
    "下記の例ではNVT-MD計算を実行している<BR>\n",
    "データの出力は \"MD.traj\"と\"MD.log\"<BR>\n",
    "以下、数時間の計算を想定しているセッティングであることに注意<BR>"
   ]
  },
  {
   "cell_type": "code",
   "execution_count": null,
   "id": "b6315ccc",
   "metadata": {
    "scrolled": true
   },
   "outputs": [],
   "source": [
    "# NVT-MD計算\n",
    "# =====================　パラメーター入力 ==================\n",
    "t_step=1         #１ステップ当たりのシミュレーション時間（単位 1fs)\n",
    "mdstep=50000     #全計算ステップ\n",
    "mdtemp=1773       #単位 K\n",
    "loginterval=1    #データの出力間隔（ステップ数で指定）\n",
    "\n",
    "#mdstep=10000 (10ps) で実績 1912 sec\n",
    "# =====================　パラメーター入力 ==================\n",
    "\n",
    "atoms.calc = calculator\n",
    "MaxwellBoltzmannDistribution(atoms, temperature_K=mdtemp)\n",
    "\n",
    "dyn = Langevin(\n",
    "            atoms,\n",
    "            t_step * units.fs,\n",
    "            temperature_K=mdtemp,\n",
    "            friction=0.02,\n",
    "            trajectory=\"MD.traj\",\n",
    "            loginterval=loginterval,\n",
    "            append_trajectory=False,\n",
    "        )\n",
    "\n",
    "dyn.attach(MDLogger(dyn, atoms, logfile=\"MD.log\", header=True, stress=False,\n",
    "                            peratom=True, mode=\"w\"), interval=loginterval)\n",
    "\n",
    "s_time = perf_counter()\n",
    "dyn.run(mdstep)\n",
    "proctime = perf_counter() - s_time\n",
    "\n",
    "print (\"process time = {:>10d} sec\".format(int(proctime)))\n",
    "\n",
    "trj = read(\"MD.traj\", index=\"::1\")\n",
    "\n",
    "#ase.io.write(\"XDATCAR\", trj, format=\"vasp-xdatcar\")  #vasp形式で保管\n",
    "#ase.io.write(\"CONTCAR_MD\", trj[-1], format=\"vasp\")   #vasp形式で保管\n",
    "ase.io.write(\"MD_final.cif\", trj[-1], format=\"cif\")\n"
   ]
  },
  {
   "cell_type": "code",
   "execution_count": null,
   "id": "d8b019ac",
   "metadata": {},
   "outputs": [],
   "source": [
    "# viewerで可視化。PC環境によってはうまく動かない場合あり\n",
    "view(trj, viewer=\"ngl\")\n"
   ]
  },
  {
   "cell_type": "markdown",
   "id": "87cf5612",
   "metadata": {},
   "source": [
    "### NVT-MD計算結果の評価：MSD計算"
   ]
  },
  {
   "cell_type": "code",
   "execution_count": null,
   "id": "e26648bf",
   "metadata": {},
   "outputs": [],
   "source": [
    "#解析パラメーター入力\n",
    "\n",
    "targetatom=\"Li\"\n",
    "fileout=\"msd.csv\"\n",
    "headerskip=200\n",
    "footerskip=1000\n",
    "dim=3\n",
    "\n",
    "#--------------------------------\n",
    "Navg=100  #変更不要Mg\n",
    "logitvl=10 #loginterval  #変更不要\n",
    "potim=1 #t_step  #変更不要"
   ]
  },
  {
   "cell_type": "code",
   "execution_count": null,
   "id": "d653a471",
   "metadata": {},
   "outputs": [],
   "source": [
    "D_index = [i for i, x in enumerate(trj[0].get_chemical_symbols()) if x == targetatom]\n",
    "\n",
    "\n",
    "positions_x = []\n",
    "positions_y = []\n",
    "positions_z = []\n",
    "msd_xp=[]\n",
    "msd_yp=[]\n",
    "msd_zp=[]\n",
    "msd_allp = []\n",
    "\n",
    "for i in range(len(trj)):\n",
    "               positions_x.append(trj[i].get_positions()[D_index,0])\n",
    "               positions_y.append(trj[i].get_positions()[D_index,1])\n",
    "               positions_z.append(trj[i].get_positions()[D_index,2])\n",
    "\n",
    "for i in range(len(trj)):\n",
    "    msd_xt=0\n",
    "    msd_yt=0\n",
    "    msd_zt=0\n",
    "    msd_allt=0\n",
    "    \n",
    "    for j in range(Navg):\n",
    "        rn=np.random.randint(len(trj)-i)\n",
    "        #print (rn,i)\n",
    "        msd_xt = msd_xt + (positions_x[i+rn]-positions_x[rn])**2\n",
    "        msd_yt = msd_yt + (positions_y[i+rn]-positions_y[rn])**2\n",
    "        msd_zt = msd_zt + (positions_z[i+rn]-positions_z[rn])**2\n",
    "        msd_allt = msd_allt + np.sum((trj[i+rn].get_positions()[D_index]-trj[rn].get_positions()[D_index])**2)\n",
    "    msd_xp.append(msd_xt/Navg)\n",
    "    msd_yp.append(msd_yt/Navg)\n",
    "    msd_zp.append(msd_zt/Navg)\n",
    "    msd_allp.append(msd_allt/Navg)\n",
    "\n",
    "msd_x=np.mean(msd_xp,axis=1)\n",
    "msd_y=np.mean(msd_yp,axis=1)\n",
    "msd_z=np.mean(msd_zp,axis=1)\n",
    "msd=np.array(msd_allp)/len(D_index)\n",
    "\n",
    "step=np.array(range(len(trj)))*potim/logitvl\n",
    "savemsd=np.concatenate([step.reshape(-1,1),msd.reshape(-1,1),msd_x.reshape(-1,1),msd_y.reshape(-1,1),msd_z.reshape(-1,1)],axis=1)\n",
    "np.savetxt(fileout, savemsd, header=\"step, msd(ang^2), msd_x(ang^2), msd_y(ang^2), msd_z(ang^2)\",delimiter=',')\n",
    "\n",
    "# MSDグラフ描画\n",
    "\n",
    "fig = plt.figure(figsize=(12,4), facecolor='w')\n",
    "\n",
    "ax1 = fig.add_subplot(1,2,1)\n",
    "ax1.plot(range(len(msd_x)), msd_x, label=\"x\")\n",
    "ax1.plot(range(len(msd_y)), msd_y, label=\"y\")\n",
    "ax1.plot(range(len(msd_z)), msd_z, label=\"z\")\n",
    "ax1.legend()\n",
    "ax1.set_xlabel(\"time /fs\")\n",
    "ax1.set_ylabel(\"MSD /ang^2\")\n",
    "ax1.grid(True)\n",
    "\n",
    "ax2 = fig.add_subplot(1,2,2)\n",
    "ax2.plot(range(len(msd)), msd, label=\"all\")\n",
    "ax2.set_xlabel(\"time /fs\")\n",
    "ax2.set_ylabel(\"MSD /ang^2\")\n",
    "ax2.grid(True)\n",
    "\n",
    "#plt.xlim(0,100)\n",
    "#plt.ylim(0,10)"
   ]
  },
  {
   "cell_type": "code",
   "execution_count": null,
   "id": "ffa45b4e",
   "metadata": {},
   "outputs": [],
   "source": [
    "from scipy import stats\n",
    "slope, intercept, r_value, _, _ = stats.linregress(savemsd[headerskip:len(trj)-footerskip,0],savemsd[headerskip:len(trj)-footerskip,1])\n",
    "print(\"slope:\",slope, \"intercept:\",intercept, \"R^2:\",r_value**2)\n",
    "D_all=slope*1e-16/1e-15/2/dim\n",
    "\n",
    "slope, intercept, r_value, _, _ = stats.linregress(savemsd[headerskip:len(trj)-footerskip,0],savemsd[headerskip:len(trj)-footerskip,2])\n",
    "print(\"slope:\",slope, \"intercept:\",intercept, \"R^2:\",r_value**2)\n",
    "D_x=slope*1e-16/1e-15/2/dim\n",
    "\n",
    "slope, intercept, r_value, _, _ = stats.linregress(savemsd[headerskip:len(trj)-footerskip,0],savemsd[headerskip:len(trj)-footerskip,3])\n",
    "print(\"slope:\",slope, \"intercept:\",intercept, \"R^2:\",r_value**2)\n",
    "D_y=slope*1e-16/1e-15/2/dim\n",
    "\n",
    "slope, intercept, r_value, _, _ = stats.linregress(savemsd[headerskip:len(trj)-footerskip,0],savemsd[headerskip:len(trj)-footerskip,4])\n",
    "print(\"slope:\",slope, \"intercept:\",intercept, \"R^2:\",r_value**2)\n",
    "D_z=slope*1e-16/1e-15/2/dim\n",
    "print (\"---------------------------------------\")\n",
    "print (\"D(all)=\",D_all, \"cm^2/sec\")\n",
    "print (\"D(x)=\",D_x, \"cm^2/sec\")\n",
    "print (\"D(y)=\",D_y, \"cm^2/sec\")\n",
    "print (\"D(z)=\",D_z, \"cm^2/sec\")\n"
   ]
  },
  {
   "cell_type": "markdown",
   "id": "a3212f30",
   "metadata": {},
   "source": [
    "### NVT-MD計算結果の評価：Population density の出力\n",
    "\n",
    "以下、計算対象に合わせて入力が必要\n",
    "出力ファイルは output.rho → VESTAによる読み込み可能。\n"
   ]
  },
  {
   "cell_type": "code",
   "execution_count": null,
   "id": "f7d92b1e",
   "metadata": {},
   "outputs": [],
   "source": [
    "\n",
    "# トラジェクトリファイルを読み込み(あらかじめ用意してあるファイル)\n",
    "#trj = read('MD_LLZ50ps.traj', index=':')  # すべてのフレームを読み込む  #ファイル名は要修正\n",
    "tgtion=\"Li\"\n",
    "\n",
    "# ボクセルのサイズ定義\n",
    "meshx = 50\n",
    "meshy = 50\n",
    "meshz = 50\n",
    "rho = np.zeros((meshx, meshy, meshz))\n"
   ]
  },
  {
   "cell_type": "code",
   "execution_count": null,
   "id": "23b4e620",
   "metadata": {},
   "outputs": [],
   "source": [
    "\n",
    "# 各フレームの原子の分率座標を読み取り、ボクセルに分配\n",
    "for atoms in trj:\n",
    "    # 分率座標を取得\n",
    "\n",
    "    ion_mask = [atom.symbol == 'Li' for atom in atoms]\n",
    "    tgt_atoms = atoms[ion_mask]\n",
    "    fractional_positions = tgt_atoms.get_scaled_positions()\n",
    "    \n",
    "    # 各原子の分率座標を適切なボクセルにカウント\n",
    "    for pos in fractional_positions:\n",
    "        # 分率座標をボクセルインデックスに変換\n",
    "        index = np.floor(pos * [meshx, meshy, meshz]).astype(int)\n",
    "\n",
    "        # エッジケース: 分率座標がちょうど1.0の場合、インデックスがmeshサイズになる場合があるため、最大値をmeshサイズ-1に制限\n",
    "        index = np.clip(index, 0, np.array([meshx, meshy, meshz]) - 1)\n",
    "\n",
    "        # カウントアップ\n",
    "        rho[tuple(index)] += 1\n",
    "\n",
    "# rho を度数から確率に変換する場合（オプション）\n",
    "total_counts = np.sum(rho)\n",
    "if total_counts > 0:\n",
    "    rho /= total_counts\n",
    "\n",
    "# rhoをファイルに保存（オプショナル）\n",
    "np.save('density_distribution.npy', rho)\n",
    "\n",
    "stockdens=np.array([])\n",
    "stockdens2=np.array([])\n",
    "\n",
    "loop=loopre=0\n",
    "\n",
    "for i in range(meshx):\n",
    "    for j in range(meshy):\n",
    "        for k in range(meshz):\n",
    "            stockdens=np.append(stockdens,float(rho[i,j,k]))\n",
    "\n",
    "loop=int(len(stockdens)/5)\n",
    "loopre=len(stockdens)%5\n",
    "\n",
    "with open('output.rho','w',encoding='utf-8',) as f:\n",
    "    \n",
    "    msg=\"cell\\n {0:3.5f} {1:3.5f} {2:3.5f}\\n {3:3.5f} {4:3.5f} {5:3.5f}\\n\".format(*trj[0].cell.cellpar())\n",
    "    f.write(msg)\n",
    "    msg=\"{0:5d} {1:5d} {2:5d}  \".format(meshx,meshy,meshz)\n",
    "    f.write(msg)\n",
    "    lat_a=trj[0].cell.cellpar()[0]/0.52918\n",
    "    lat_b=trj[0].cell.cellpar()[1]/0.52918\n",
    "    lat_c=trj[0].cell.cellpar()[2]/0.52918\n",
    "    msg=\"{0:3.5f} {1:3.5f} {2:3.5f}\\n\".format(lat_a,lat_b,lat_c)\n",
    "    f.write(msg)\n",
    "\n",
    "    for i in range(loop):\n",
    "        for j in range(5):\n",
    "            msg=\"{0:1.8e} \".format(stockdens[i*5+j])\n",
    "            f.write(msg)\n",
    "        f.write(\"\\n\")\n",
    "\n",
    "    for k in range(loopre):\n",
    "        msg=\"{0:1.8e} \".format(stockdens[i*(loop+1)+k])\n",
    "        f.write(msg)\n",
    "        #print (stockdens[i*(loop+1)+k])\n",
    "    f.write(\"\\n\")\n"
   ]
  },
  {
   "cell_type": "code",
   "execution_count": null,
   "id": "b29ef2d7",
   "metadata": {},
   "outputs": [],
   "source": []
  }
 ],
 "metadata": {
  "kernelspec": {
   "display_name": "Python 3 (ipykernel)",
   "language": "python",
   "name": "python3"
  },
  "language_info": {
   "codemirror_mode": {
    "name": "ipython",
    "version": 3
   },
   "file_extension": ".py",
   "mimetype": "text/x-python",
   "name": "python",
   "nbconvert_exporter": "python",
   "pygments_lexer": "ipython3",
   "version": "3.11.5"
  }
 },
 "nbformat": 4,
 "nbformat_minor": 5
}
